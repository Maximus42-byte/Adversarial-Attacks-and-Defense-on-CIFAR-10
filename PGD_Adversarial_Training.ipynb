{
  "cells": [
    {
      "cell_type": "markdown",
      "metadata": {
        "id": "s-qEz2gZ4Ob4"
      },
      "source": [
        "<center>\n",
        "<h1>In the name of Allah</h1>\n",
        "</center>"
      ]
    },
    {
      "cell_type": "markdown",
      "metadata": {
        "id": "ecKlZnB94Ob8"
      },
      "source": [
        "**Name: Mahdi Saieedi**\n",
        "\n",
        "\n",
        "**Student Number:401207254**"
      ]
    },
    {
      "cell_type": "code",
      "execution_count": null,
      "metadata": {
        "colab": {
          "base_uri": "https://localhost:8080/"
        },
        "id": "D4vzPOnc4Ob9",
        "outputId": "52f86f46-b942-45bb-dab0-da71f51d9189"
      },
      "outputs": [
        {
          "output_type": "stream",
          "name": "stdout",
          "text": [
            "Mounted at /content/drive\n"
          ]
        }
      ],
      "source": [
        "from google.colab import drive\n",
        "drive.mount('/content/drive')"
      ]
    },
    {
      "cell_type": "code",
      "source": [
        "# !pip uninstall torch torchvision\n",
        "# !pip install torch torchvision"
      ],
      "metadata": {
        "id": "jTYrsaY8haKD"
      },
      "execution_count": null,
      "outputs": []
    },
    {
      "cell_type": "code",
      "execution_count": null,
      "metadata": {
        "id": "ZYmC_u6w4Ob-"
      },
      "outputs": [],
      "source": [
        "import torch\n",
        "import torchvision\n",
        "import torchvision.transforms as transforms\n",
        "from torchvision.models import resnet18\n",
        "import torch.nn as nn\n",
        "import torch.nn.functional as F\n",
        "import torch.optim as optim\n",
        "import numpy as np\n",
        "from torch.autograd import Variable\n",
        "from tqdm import tqdm"
      ]
    },
    {
      "cell_type": "markdown",
      "metadata": {
        "id": "3gTnqA1l4Ob_"
      },
      "source": [
        "# A. Load the pretrained Resnet on CIFAR10"
      ]
    },
    {
      "cell_type": "code",
      "execution_count": null,
      "metadata": {
        "colab": {
          "base_uri": "https://localhost:8080/"
        },
        "id": "fOjbQG2E4OcA",
        "outputId": "460aff97-52ae-47ce-90d4-ca900d7955ef"
      },
      "outputs": [
        {
          "output_type": "stream",
          "name": "stdout",
          "text": [
            "Downloading https://www.cs.toronto.edu/~kriz/cifar-10-python.tar.gz to ./data/cifar-10-python.tar.gz\n"
          ]
        },
        {
          "output_type": "stream",
          "name": "stderr",
          "text": [
            "100%|██████████| 170498071/170498071 [00:01<00:00, 102066787.68it/s]\n"
          ]
        },
        {
          "output_type": "stream",
          "name": "stdout",
          "text": [
            "Extracting ./data/cifar-10-python.tar.gz to ./data\n",
            "Files already downloaded and verified\n"
          ]
        }
      ],
      "source": [
        "transform = transforms.Compose([transforms.ToTensor()])\n",
        "\n",
        "trainset = torchvision.datasets.CIFAR10(root='./data', train=True,\n",
        "                                        download=True, transform=transform)\n",
        "\n",
        "testset = torchvision.datasets.CIFAR10(root='./data', train=False,\n",
        "                                       download=True, transform=transform)\n",
        "\n",
        "batch_size = 128\n",
        "\n",
        "########################## Problem 0 (0  points) ###############################\n",
        "# todo: Define your data loaders for training and testing                      #\n",
        "################################################################################\n",
        "\n",
        "# your code goes here\n",
        "\n",
        "from torch.utils.data import DataLoader\n",
        "\n",
        "# Define your data loaders for training and testing\n",
        "train_loader = DataLoader(trainset, batch_size=batch_size, shuffle=True, num_workers=2)\n",
        "test_loader = DataLoader(testset, batch_size=batch_size, shuffle=False, num_workers=2)\n",
        "\n",
        "################################ End ###########################################\n",
        "\n",
        "\n",
        "################################ End ###########################################\n",
        "\n",
        "classes = ('plane', 'car', 'bird', 'cat',\n",
        "           'deer', 'dog', 'frog', 'horse', 'ship', 'truck')\n",
        "\n",
        "device = torch.device('cuda:0' if torch.cuda.is_available() else 'cpu')"
      ]
    },
    {
      "cell_type": "code",
      "execution_count": null,
      "metadata": {
        "id": "3aZqo7s24OcA"
      },
      "outputs": [],
      "source": [
        "class resnet(nn.Module):\n",
        "  def __init__(self, num_cls, T=1):\n",
        "    super().__init__()\n",
        "    self.conv = nn.Sequential(\n",
        "        *list(resnet18(weights=None).children())[:-2])\n",
        "\n",
        "    self.fc = nn.Linear(512, num_cls)\n",
        "    self.temp = T\n",
        "\n",
        "  def forward(self, x, T=None):\n",
        "    if T is None:\n",
        "      T = self.temp\n",
        "    x = self.conv(x)\n",
        "    x = torch.flatten(x, start_dim=1)\n",
        "    logits = self.fc(x)\n",
        "    output = torch.softmax(logits / T, dim=1)\n",
        "\n",
        "    return logits, output"
      ]
    },
    {
      "cell_type": "code",
      "execution_count": null,
      "metadata": {
        "colab": {
          "base_uri": "https://localhost:8080/"
        },
        "id": "XBcFkPLn4OcB",
        "outputId": "9f58a179-808f-4281-a266-0c662c36e873"
      },
      "outputs": [
        {
          "output_type": "stream",
          "name": "stdout",
          "text": [
            "Downloading...\n",
            "From (original): https://drive.google.com/uc?id=1KU4jWAwZIq0TUujAsgimLxGWUvwIEfyB\n",
            "From (redirected): https://drive.google.com/uc?id=1KU4jWAwZIq0TUujAsgimLxGWUvwIEfyB&confirm=t&uuid=9908e63b-5b6f-4914-91b4-1fdd24b315eb\n",
            "To: /content/resnet18_cifar10_model_pretrained.pth\n",
            "100% 44.8M/44.8M [00:00<00:00, 117MB/s]\n"
          ]
        }
      ],
      "source": [
        "# Download trained weights of the Resnet18 model on CIFAR10 dataset\n",
        "!gdown 1KU4jWAwZIq0TUujAsgimLxGWUvwIEfyB"
      ]
    },
    {
      "cell_type": "code",
      "execution_count": null,
      "metadata": {
        "id": "sKhc01ZY4OcB"
      },
      "outputs": [],
      "source": [
        "# load trained Resnet18 model on CIFAR10 dataset\n",
        "model = resnet(len(classes)).to(device)\n",
        "model_name = \"resnet18_cifar10_model_pretrained.pth\"\n",
        "model_PATH = \"/content/\" + model_name\n",
        "state_dict = torch.load(model_PATH, map_location=device)\n",
        "model.load_state_dict(state_dict)\n",
        "model = model.to(device)"
      ]
    },
    {
      "cell_type": "code",
      "source": [
        "# def model_normalized(model, inputs):\n",
        "#     return model(transform_normalize(inputs))"
      ],
      "metadata": {
        "id": "v6XALSVhBSlY"
      },
      "execution_count": null,
      "outputs": []
    },
    {
      "cell_type": "code",
      "source": [
        "next(model.parameters()).device"
      ],
      "metadata": {
        "colab": {
          "base_uri": "https://localhost:8080/"
        },
        "id": "YHg8b_2Ldigr",
        "outputId": "e2a543ed-b33a-42dd-e027-e22e1581da69"
      },
      "execution_count": null,
      "outputs": [
        {
          "output_type": "execute_result",
          "data": {
            "text/plain": [
              "device(type='cpu')"
            ]
          },
          "metadata": {},
          "execution_count": 9
        }
      ]
    },
    {
      "cell_type": "code",
      "source": [
        "next(model.parameters()).is_cuda"
      ],
      "metadata": {
        "colab": {
          "base_uri": "https://localhost:8080/"
        },
        "id": "ZR_IaQgEdj1L",
        "outputId": "0882c890-303f-454b-dd4c-12e416e67e3e"
      },
      "execution_count": null,
      "outputs": [
        {
          "output_type": "execute_result",
          "data": {
            "text/plain": [
              "False"
            ]
          },
          "metadata": {},
          "execution_count": 10
        }
      ]
    },
    {
      "cell_type": "code",
      "source": [
        "# pip install --upgrade torch\n"
      ],
      "metadata": {
        "id": "_PiACkyWeYxY"
      },
      "execution_count": null,
      "outputs": []
    },
    {
      "cell_type": "code",
      "source": [
        "# transform_normalize = transforms.Normalize((0.4914, 0.4822, 0.4465), (0.2023, 0.1994, 0.2010))"
      ],
      "metadata": {
        "id": "SZArN1Pli1o-"
      },
      "execution_count": null,
      "outputs": []
    },
    {
      "cell_type": "code",
      "source": [
        "# def model_normalized(model, inputs):\n",
        "#     return model(transform_normalize(inputs))"
      ],
      "metadata": {
        "id": "Tu-4BATgi-SE"
      },
      "execution_count": null,
      "outputs": []
    },
    {
      "cell_type": "code",
      "execution_count": null,
      "metadata": {
        "id": "WC6GgW_q4OcB"
      },
      "outputs": [],
      "source": [
        "def standard_test(model, loader, device=device):\n",
        "  correct = 0\n",
        "  total = 0\n",
        "  ########################## Problem 0 (0 points) ##############################\n",
        "  # todo: Iterate over loader, compute the output and predicted                #\n",
        "  # label, and update \"correct\" and \"total\" counters accordingly.              #\n",
        "  ##############################################################################\n",
        "\n",
        "  # Set the model to evaluation mode\n",
        "  model.eval()\n",
        "\n",
        "  with torch.no_grad():\n",
        "    for data in loader:\n",
        "      images, labels = data\n",
        "      images = images.to(device)\n",
        "      labels = labels.to(device)\n",
        "      output = model(images)\n",
        "      # Check if the model returns a tuple or a single tensor\n",
        "      if isinstance(output, tuple):\n",
        "        outputs, _ = output  # Unpack if the output is a tuple\n",
        "      else:\n",
        "        outputs = output  # Directly use the output if it's a tensor\n",
        "\n",
        "      _, predicted = torch.max(outputs.data, 1)\n",
        "      total += labels.size(0)\n",
        "      correct += (predicted == labels).sum().item()\n",
        "  ################################ End #########################################\n",
        "  print(f'\\n Clean accuracy of the network on the 10000 test images: {100 * correct // total} %')"
      ]
    },
    {
      "cell_type": "code",
      "source": [
        "standard_test(model=model, loader= test_loader)"
      ],
      "metadata": {
        "colab": {
          "base_uri": "https://localhost:8080/"
        },
        "id": "nueym31lyV5G",
        "outputId": "87fd0806-6214-4e71-8b2b-60213c24357f"
      },
      "execution_count": null,
      "outputs": [
        {
          "output_type": "stream",
          "name": "stdout",
          "text": [
            "\n",
            " Clean accuracy of the network on the 10000 test images: 75 %\n"
          ]
        }
      ]
    },
    {
      "cell_type": "code",
      "source": [
        "standard_test(model=model, loader= train_loader)"
      ],
      "metadata": {
        "colab": {
          "base_uri": "https://localhost:8080/"
        },
        "id": "W-7RZvBsmEvI",
        "outputId": "3e084c50-fb1f-47cb-ab92-f740fb4185c7"
      },
      "execution_count": null,
      "outputs": [
        {
          "output_type": "stream",
          "name": "stdout",
          "text": [
            "\n",
            " Clean accuracy of the network on the 10000 test images: 100 %\n"
          ]
        }
      ]
    },
    {
      "cell_type": "markdown",
      "metadata": {
        "id": "jH-72T-H4OcC"
      },
      "source": [
        "# B. PGD Attack"
      ]
    },
    {
      "cell_type": "code",
      "execution_count": null,
      "metadata": {
        "id": "Mk4YarYx4OcC"
      },
      "outputs": [],
      "source": [
        "# Implement PGD attack\n",
        "\n",
        "class LinfPGDAttack(object):\n",
        "\n",
        "    def __init__(self, model, epsilon = 8/255, k = 2, alpha = 2/255):\n",
        "        self.model = model\n",
        "        self.epsilon = epsilon\n",
        "        self.steps = k\n",
        "        self.alpha = alpha\n",
        "\n",
        "    def __call__(self, image, label):\n",
        "        image = image.to(device)\n",
        "        label = label.to(device)\n",
        "        outs= self.model(image)\n",
        "        if isinstance(outs, tuple):\n",
        "          out, _ = outs  # Unpack if the output is a tuple\n",
        "        else:\n",
        "          out = outs\n",
        "        _, pred = torch.max(out, 1)\n",
        "        perturbed_image = image.clone()\n",
        "        perturbed_image.to(device)\n",
        "        #if pred.item() == label.item():\n",
        "            ########################## Problem 1 (8 points) ##############################\n",
        "            # Implement a k step PGD attack of size alpha                                #\n",
        "            # while always staying within epsilon distance from the initial point        #\n",
        "            # Use cross entropy loss                                                     #\n",
        "            ##############################################################################\n",
        "        loss = nn.CrossEntropyLoss()\n",
        "        ori_image = image.data\n",
        "        for i in range(self.steps):\n",
        "          image.requires_grad = True\n",
        "          outs = self.model(image)\n",
        "          if isinstance(outs, tuple):\n",
        "            out, _ = outs  # Unpack if the output is a tuple\n",
        "          else:\n",
        "            out = outs\n",
        "          self.model.zero_grad()\n",
        "          cost = loss(out, label).to(device)\n",
        "          cost.backward()\n",
        "          adv_image = image + self.alpha*image.grad.sign()\n",
        "          eta = torch.clamp(adv_image - ori_image, min=-1*self.epsilon, max=self.epsilon)\n",
        "          image = torch.clamp(ori_image + eta, min=0, max=1).detach_()\n",
        "\n",
        "        perturbed_image=image\n",
        "\n",
        "\n",
        "\n",
        "            ################################ End #########################################\n",
        "\n",
        "        return perturbed_image"
      ]
    },
    {
      "cell_type": "code",
      "source": [
        "def evalute_pgd(model_input, k_input):\n",
        "  correct = 0\n",
        "  total = 0\n",
        "  model_input.eval()\n",
        "  pgd = LinfPGDAttack(model_input,k=k_input)\n",
        "  for data in tqdm(test_loader):\n",
        "    images, labels = data\n",
        "    images = images.to(device)\n",
        "    labels = labels.to(device)\n",
        "    adv=pgd(images,labels)\n",
        "    adv_output = model_input(adv)\n",
        "    if isinstance(adv_output, tuple):\n",
        "        adv_outputs, _ = adv_output  # Unpack if the output is a tuple\n",
        "    else:\n",
        "        adv_outputs = adv_output  # Directly use the output if it's a tensor\n",
        "    # print(adv_outputs.size())\n",
        "    _, predicted = torch.max(adv_outputs.data, 1)\n",
        "    total += labels.size(0)\n",
        "    correct += (predicted == labels).sum().item()\n",
        "  print(f'adversarial Accuracy of new model against pgd attack on the 10000 test images with 8/255 and k={k_input} : {100 * correct / total} %')\n"
      ],
      "metadata": {
        "id": "rXyBA6UtR2iC"
      },
      "execution_count": null,
      "outputs": []
    },
    {
      "cell_type": "code",
      "source": [
        "evalute_pgd(model_input = model, k_input = 2)"
      ],
      "metadata": {
        "colab": {
          "base_uri": "https://localhost:8080/"
        },
        "id": "81Iv1jmSWMwS",
        "outputId": "70203cd9-108d-40aa-af34-314b16b220c3"
      },
      "execution_count": null,
      "outputs": [
        {
          "output_type": "stream",
          "name": "stderr",
          "text": [
            "100%|██████████| 79/79 [05:09<00:00,  3.92s/it]"
          ]
        },
        {
          "output_type": "stream",
          "name": "stdout",
          "text": [
            "adversarial Accuracy of new model against pgd attack on the 10000 test images with 8/255 and k=2 : 17.36 %\n"
          ]
        },
        {
          "output_type": "stream",
          "name": "stderr",
          "text": [
            "\n"
          ]
        }
      ]
    },
    {
      "cell_type": "code",
      "execution_count": null,
      "metadata": {
        "id": "AGOUinFW4OcD",
        "colab": {
          "base_uri": "https://localhost:8080/"
        },
        "outputId": "847470ae-6d51-49cd-96d3-9a67353d1337"
      },
      "outputs": [
        {
          "output_type": "stream",
          "name": "stderr",
          "text": [
            "100%|██████████| 79/79 [05:08<00:00,  3.91s/it]\n"
          ]
        },
        {
          "output_type": "stream",
          "name": "stdout",
          "text": [
            "adversarial Accuracy of new model against pgd attack on the 10000 test images with 8/255 and k=2 : 17.36 %\n"
          ]
        },
        {
          "output_type": "stream",
          "name": "stderr",
          "text": [
            "100%|██████████| 79/79 [08:56<00:00,  6.79s/it]\n"
          ]
        },
        {
          "output_type": "stream",
          "name": "stdout",
          "text": [
            "adversarial Accuracy of new model against pgd attack on the 10000 test images with 8/255 and k=4 : 3.29 %\n"
          ]
        },
        {
          "output_type": "stream",
          "name": "stderr",
          "text": [
            "100%|██████████| 79/79 [16:49<00:00, 12.78s/it]"
          ]
        },
        {
          "output_type": "stream",
          "name": "stdout",
          "text": [
            "adversarial Accuracy of new model against pgd attack on the 10000 test images with 8/255 and k=8 : 0.95 %\n"
          ]
        },
        {
          "output_type": "stream",
          "name": "stderr",
          "text": [
            "\n"
          ]
        }
      ],
      "source": [
        "########################## Problem 2 (4 points) ##############################\n",
        "# Evaluate PGD attack on the trained model with k=2,4,8                      #\n",
        "##############################################################################\n",
        "\n",
        "k_list = [2,4,8]\n",
        "\n",
        "##############################################################################\n",
        "\n",
        "\n",
        "for _k in k_list:\n",
        "  evalute_pgd(model_input = model  , k_input = _k)\n",
        "\n",
        "\n",
        "\n",
        "################################ End #########################################"
      ]
    },
    {
      "cell_type": "code",
      "execution_count": null,
      "metadata": {
        "id": "m0IV_JZE4OcD",
        "colab": {
          "base_uri": "https://localhost:8080/",
          "height": 669
        },
        "outputId": "3f80b37f-9522-4ed7-b8cc-096242357d43"
      },
      "outputs": [
        {
          "output_type": "stream",
          "name": "stderr",
          "text": [
            "100%|██████████| 3/3 [00:00<00:00,  5.44it/s]\n"
          ]
        },
        {
          "output_type": "stream",
          "name": "stdout",
          "text": [
            "the true label is : 3 and the model prediction is : 5\n",
            "the true label is : 8 and the model prediction is : 0\n",
            "the true label is : 8 and the model prediction is : 1\n"
          ]
        },
        {
          "output_type": "display_data",
          "data": {
            "text/plain": [
              "<Figure size 1200x1200 with 9 Axes>"
            ],
            "image/png": "[encoded data removed]"
          },
          "metadata": {}
        }
      ],
      "source": [
        "########################## Problem 3 (4 points) ##############################\n",
        "# Choose 3 images from the test set that have been incorrectly classified    #\n",
        "# and plot the actual image, the added noise, and the perturbed image        #\n",
        "##############################################################################\n",
        "\n",
        "\n",
        "##############################################################################\n",
        "import matplotlib.pyplot as plt\n",
        "model=model.to(device)\n",
        "newset=torch.utils.data.DataLoader(testset, batch_size = len(testset), shuffle = False, num_workers = 2)\n",
        "for d,l in newset:\n",
        "  data=d.to(device)\n",
        "  targets=l.to(device)\n",
        "\n",
        "a=[]\n",
        "model.eval()\n",
        "pgd=LinfPGDAttack(model,k=4)\n",
        "for i in tqdm(range(3)):\n",
        "  adv=pgd(data[i:i+1],targets[i:i+1])\n",
        "  _,adv_predicted=torch.max(model(adv)[0].data, 1)\n",
        "  _,true_predicted=torch.max(model(data[i:i+1])[0].data, 1)\n",
        "  a.append((adv,data[i],adv_predicted[0],true_predicted[0]))\n",
        "\n",
        "\n",
        "for i in range(3):\n",
        "  print('the true label is : '+str(a[i][3].item())+' and the model prediction is : '+str(a[i][2].item()))\n",
        "\n",
        "fig = plt.figure()\n",
        "fig.set_figheight(12)\n",
        "fig.set_figwidth(12)\n",
        "for i in range(3):\n",
        "  adversary_image=np.transpose(a[i][0].detach().cpu().numpy()[0],(1,2,0))\n",
        "  original_image=np.transpose(a[i][1].detach().cpu().numpy(),(1,2,0))\n",
        "  plt.subplot(5,3,i*3+1)\n",
        "  plt.title(classes[a[i][3].item()])\n",
        "  plt.axis('off')\n",
        "  plt.imshow(original_image)\n",
        "  plt.subplot(5,3,i*3+2)\n",
        "  plt.title('noise')\n",
        "  plt.axis('off')\n",
        "  noise=adversary_image-original_image\n",
        "  plt.imshow(noise/(2*(noise.max()-noise.min()))+0.5)\n",
        "  plt.subplot(5,3,i*3+3)\n",
        "  plt.title(classes[a[i][2].item()])\n",
        "  plt.axis('off')\n",
        "  plt.imshow(adversary_image)\n",
        "\n",
        "\n",
        "################################ End #########################################"
      ]
    },
    {
      "cell_type": "markdown",
      "metadata": {
        "id": "NLZALwTA4OcE"
      },
      "source": [
        "# C. FGSM Attack"
      ]
    },
    {
      "cell_type": "code",
      "source": [
        "class FGSMAttack():\n",
        "\n",
        "    def __init__(self, model):\n",
        "        self.model = model\n",
        "        self.adversarials = []\n",
        "        self.originals = []\n",
        "        self.predictions = []\n",
        "        self.confidences = []\n",
        "        self.truths = []\n",
        "\n",
        "\n",
        "\n",
        "    def untargeted_fgsm(self, image, epsilon, gradient):\n",
        "\n",
        "      # Define untargeted fast gradient sign attack pertubation\n",
        "      # Firstly perturb the image in the proper direction then clamp it between the right values.\n",
        "      #############################\n",
        "      # Your code goes here\n",
        "\n",
        "      sign_data_grad = gradient.sign()\n",
        "\n",
        "      perturbed_image = image + epsilon*sign_data_grad\n",
        "\n",
        "      perturbed_image = torch.clamp(perturbed_image, 0, 1)\n",
        "\n",
        "      return perturbed_image\n",
        "      #############################\n",
        "\n",
        "    def __call__(self, image, label, epsilon):\n",
        "\n",
        "\n",
        "      image = image.to(device)\n",
        "      label = label.to(device)\n",
        "\n",
        "      true_image = image.clone()\n",
        "      image.requires_grad = True\n",
        "      outs= self.model(image)\n",
        "      if isinstance(outs, tuple):\n",
        "        out, _ = outs  # Unpack if the output is a tuple\n",
        "      else:\n",
        "        out = outs\n",
        "      _, pred = torch.max(out, 1)\n",
        "\n",
        "\n",
        "\n",
        "        # image.requires_grad = True\n",
        "\n",
        "        # Now define a loss(use the negative log likelihood loss),\n",
        "        # Zero the gradients of the model parameters and do the backpropagation\n",
        "        # Retrieve the gradient of the loss with respect to the input image\n",
        "        # Finally use the function you defined earlier to craft the perturbed image\n",
        "        #############################\n",
        "        # Your code goes here\n",
        "      loss = F.nll_loss(out, label)\n",
        "      self.model.zero_grad()\n",
        "\n",
        "      loss.backward()\n",
        "      image_grad = image.grad.data\n",
        "\n",
        "      perturbed_image = self.untargeted_fgsm(image, epsilon, image_grad)\n",
        "\n",
        "      #############################\n",
        "\n",
        "      outs2 = self.model(perturbed_image)\n",
        "      if isinstance(outs2, tuple):\n",
        "        out2, _ = outs2  # Unpack if the output is a tuple\n",
        "      else:\n",
        "        out2 = outs2\n",
        "\n",
        "      _, pred2 = torch.max(out2.data, 1)\n",
        "\n",
        "      confidence = F.softmax(out2, dim=1)[0][pred2].data\n",
        "\n",
        "      prob = confidence\n",
        "\n",
        "      # self.adversarials.append(perturbed_image.squeeze().detach().cpu().numpy())\n",
        "      # self.originals.append(true_image.squeeze().detach().cpu().numpy())\n",
        "      # self.predictions.append(pred2.item())\n",
        "      # self.confidences.append(confidence.item())\n",
        "      # self.truths.append(label.item())\n",
        "\n",
        "\n",
        "      return perturbed_image, pred2, confidence, label"
      ],
      "metadata": {
        "id": "qHdsHpY0M__d"
      },
      "execution_count": null,
      "outputs": []
    },
    {
      "cell_type": "code",
      "execution_count": null,
      "metadata": {
        "id": "Lz4at6aj4OcE"
      },
      "outputs": [],
      "source": [
        "########################## Problem 4 (2 points) ##############################\n",
        "# Use your implementation from last HW for untargeted FGSM attack            #\n",
        "##############################################################################\n",
        "\n",
        "# Your code goes here\n",
        "#implemented in the last block\n",
        "\n",
        "################################ End #########################################"
      ]
    },
    {
      "cell_type": "code",
      "source": [
        "def fgsm_eval(model , epsilon):\n",
        "  fgsmattack=FGSMAttack(model)\n",
        "  model.eval()\n",
        "  correct = 0\n",
        "  total = 0\n",
        "  for data in tqdm(test_loader):\n",
        "      images, labels = data\n",
        "      images = images.to(device)\n",
        "      labels = labels.to(device)\n",
        "      adv,adv_outputs,_,_=fgsmattack(images,labels,epsilon)\n",
        "      # outputs = model(images)\n",
        "      predicted =adv_outputs\n",
        "      total += labels.size(0)\n",
        "      correct += (predicted == labels).sum().item()\n",
        "\n",
        "  print(f'adversarial Accuracy of ResNet18 model on the 10000 test images with {epsilon} : {100 * correct / total} %')\n"
      ],
      "metadata": {
        "id": "s3QIqBAqNNAp"
      },
      "execution_count": null,
      "outputs": []
    },
    {
      "cell_type": "code",
      "execution_count": null,
      "metadata": {
        "id": "xD_Go9Gb4OcF",
        "colab": {
          "base_uri": "https://localhost:8080/"
        },
        "outputId": "9ed330c0-a8d3-46d3-af4d-51fdbe051ced"
      },
      "outputs": [
        {
          "output_type": "stream",
          "name": "stderr",
          "text": [
            "100%|██████████| 79/79 [02:46<00:00,  2.10s/it]"
          ]
        },
        {
          "output_type": "stream",
          "name": "stdout",
          "text": [
            "adversarial Accuracy of ResNet18 model on the 10000 test images with 0.03137254901960784 : 8.04 %\n"
          ]
        },
        {
          "output_type": "stream",
          "name": "stderr",
          "text": [
            "\n"
          ]
        }
      ],
      "source": [
        "########################### Problem 5 (2 points) #############################\n",
        "# Evaluate untargeted FGSM attack on the trained model with epsilon = 8/255  #\n",
        "##############################################################################\n",
        "\n",
        "fgsm_eval(model , 8/255)\n",
        "################################ End #########################################"
      ]
    },
    {
      "cell_type": "markdown",
      "metadata": {
        "id": "JdGtiW3u4OcF"
      },
      "source": [
        "# D. Adversarial Training"
      ]
    },
    {
      "cell_type": "code",
      "execution_count": null,
      "metadata": {
        "id": "X-mrZqGN4OcF",
        "colab": {
          "base_uri": "https://localhost:8080/"
        },
        "outputId": "7a8483d0-dc89-4567-f5ee-4fe89e7110ac"
      },
      "outputs": [
        {
          "output_type": "stream",
          "name": "stderr",
          "text": [
            "/usr/local/lib/python3.10/dist-packages/torchvision/models/_utils.py:208: UserWarning: The parameter 'pretrained' is deprecated since 0.13 and may be removed in the future, please use 'weights' instead.\n",
            "  warnings.warn(\n",
            "/usr/local/lib/python3.10/dist-packages/torchvision/models/_utils.py:223: UserWarning: Arguments other than a weight enum or `None` for 'weights' are deprecated since 0.13 and may be removed in the future. The current behavior is equivalent to passing `weights=ResNet18_Weights.IMAGENET1K_V1`. You can also use `weights=ResNet18_Weights.DEFAULT` to get the most up-to-date weights.\n",
            "  warnings.warn(msg)\n",
            "Downloading: \"https://download.pytorch.org/models/resnet18-f37072fd.pth\" to /root/.cache/torch/hub/checkpoints/resnet18-f37072fd.pth\n",
            "100%|██████████| 44.7M/44.7M [00:00<00:00, 113MB/s]\n"
          ]
        }
      ],
      "source": [
        "########################### Problem 6 (1 points) #############################\n",
        "# Load a new resnet model for adversarial training                           #\n",
        "##############################################################################\n",
        "\n",
        "# Your code goes here\n",
        "\n",
        "adv_model = resnet18(pretrained=True)\n",
        "\n",
        "################################ End #########################################"
      ]
    },
    {
      "cell_type": "code",
      "source": [
        "adv_model = adv_model.to(device)\n",
        "adv_model.train()"
      ],
      "metadata": {
        "colab": {
          "base_uri": "https://localhost:8080/"
        },
        "id": "6t3djZQyaSrt",
        "outputId": "43de0ef6-4952-4330-d573-401c6afc7c22"
      },
      "execution_count": null,
      "outputs": [
        {
          "output_type": "execute_result",
          "data": {
            "text/plain": [
              "ResNet(\n",
              "  (conv1): Conv2d(3, 64, kernel_size=(7, 7), stride=(2, 2), padding=(3, 3), bias=False)\n",
              "  (bn1): BatchNorm2d(64, eps=1e-05, momentum=0.1, affine=True, track_running_stats=True)\n",
              "  (relu): ReLU(inplace=True)\n",
              "  (maxpool): MaxPool2d(kernel_size=3, stride=2, padding=1, dilation=1, ceil_mode=False)\n",
              "  (layer1): Sequential(\n",
              "    (0): BasicBlock(\n",
              "      (conv1): Conv2d(64, 64, kernel_size=(3, 3), stride=(1, 1), padding=(1, 1), bias=False)\n",
              "      (bn1): BatchNorm2d(64, eps=1e-05, momentum=0.1, affine=True, track_running_stats=True)\n",
              "      (relu): ReLU(inplace=True)\n",
              "      (conv2): Conv2d(64, 64, kernel_size=(3, 3), stride=(1, 1), padding=(1, 1), bias=False)\n",
              "      (bn2): BatchNorm2d(64, eps=1e-05, momentum=0.1, affine=True, track_running_stats=True)\n",
              "    )\n",
              "    (1): BasicBlock(\n",
              "      (conv1): Conv2d(64, 64, kernel_size=(3, 3), stride=(1, 1), padding=(1, 1), bias=False)\n",
              "      (bn1): BatchNorm2d(64, eps=1e-05, momentum=0.1, affine=True, track_running_stats=True)\n",
              "      (relu): ReLU(inplace=True)\n",
              "      (conv2): Conv2d(64, 64, kernel_size=(3, 3), stride=(1, 1), padding=(1, 1), bias=False)\n",
              "      (bn2): BatchNorm2d(64, eps=1e-05, momentum=0.1, affine=True, track_running_stats=True)\n",
              "    )\n",
              "  )\n",
              "  (layer2): Sequential(\n",
              "    (0): BasicBlock(\n",
              "      (conv1): Conv2d(64, 128, kernel_size=(3, 3), stride=(2, 2), padding=(1, 1), bias=False)\n",
              "      (bn1): BatchNorm2d(128, eps=1e-05, momentum=0.1, affine=True, track_running_stats=True)\n",
              "      (relu): ReLU(inplace=True)\n",
              "      (conv2): Conv2d(128, 128, kernel_size=(3, 3), stride=(1, 1), padding=(1, 1), bias=False)\n",
              "      (bn2): BatchNorm2d(128, eps=1e-05, momentum=0.1, affine=True, track_running_stats=True)\n",
              "      (downsample): Sequential(\n",
              "        (0): Conv2d(64, 128, kernel_size=(1, 1), stride=(2, 2), bias=False)\n",
              "        (1): BatchNorm2d(128, eps=1e-05, momentum=0.1, affine=True, track_running_stats=True)\n",
              "      )\n",
              "    )\n",
              "    (1): BasicBlock(\n",
              "      (conv1): Conv2d(128, 128, kernel_size=(3, 3), stride=(1, 1), padding=(1, 1), bias=False)\n",
              "      (bn1): BatchNorm2d(128, eps=1e-05, momentum=0.1, affine=True, track_running_stats=True)\n",
              "      (relu): ReLU(inplace=True)\n",
              "      (conv2): Conv2d(128, 128, kernel_size=(3, 3), stride=(1, 1), padding=(1, 1), bias=False)\n",
              "      (bn2): BatchNorm2d(128, eps=1e-05, momentum=0.1, affine=True, track_running_stats=True)\n",
              "    )\n",
              "  )\n",
              "  (layer3): Sequential(\n",
              "    (0): BasicBlock(\n",
              "      (conv1): Conv2d(128, 256, kernel_size=(3, 3), stride=(2, 2), padding=(1, 1), bias=False)\n",
              "      (bn1): BatchNorm2d(256, eps=1e-05, momentum=0.1, affine=True, track_running_stats=True)\n",
              "      (relu): ReLU(inplace=True)\n",
              "      (conv2): Conv2d(256, 256, kernel_size=(3, 3), stride=(1, 1), padding=(1, 1), bias=False)\n",
              "      (bn2): BatchNorm2d(256, eps=1e-05, momentum=0.1, affine=True, track_running_stats=True)\n",
              "      (downsample): Sequential(\n",
              "        (0): Conv2d(128, 256, kernel_size=(1, 1), stride=(2, 2), bias=False)\n",
              "        (1): BatchNorm2d(256, eps=1e-05, momentum=0.1, affine=True, track_running_stats=True)\n",
              "      )\n",
              "    )\n",
              "    (1): BasicBlock(\n",
              "      (conv1): Conv2d(256, 256, kernel_size=(3, 3), stride=(1, 1), padding=(1, 1), bias=False)\n",
              "      (bn1): BatchNorm2d(256, eps=1e-05, momentum=0.1, affine=True, track_running_stats=True)\n",
              "      (relu): ReLU(inplace=True)\n",
              "      (conv2): Conv2d(256, 256, kernel_size=(3, 3), stride=(1, 1), padding=(1, 1), bias=False)\n",
              "      (bn2): BatchNorm2d(256, eps=1e-05, momentum=0.1, affine=True, track_running_stats=True)\n",
              "    )\n",
              "  )\n",
              "  (layer4): Sequential(\n",
              "    (0): BasicBlock(\n",
              "      (conv1): Conv2d(256, 512, kernel_size=(3, 3), stride=(2, 2), padding=(1, 1), bias=False)\n",
              "      (bn1): BatchNorm2d(512, eps=1e-05, momentum=0.1, affine=True, track_running_stats=True)\n",
              "      (relu): ReLU(inplace=True)\n",
              "      (conv2): Conv2d(512, 512, kernel_size=(3, 3), stride=(1, 1), padding=(1, 1), bias=False)\n",
              "      (bn2): BatchNorm2d(512, eps=1e-05, momentum=0.1, affine=True, track_running_stats=True)\n",
              "      (downsample): Sequential(\n",
              "        (0): Conv2d(256, 512, kernel_size=(1, 1), stride=(2, 2), bias=False)\n",
              "        (1): BatchNorm2d(512, eps=1e-05, momentum=0.1, affine=True, track_running_stats=True)\n",
              "      )\n",
              "    )\n",
              "    (1): BasicBlock(\n",
              "      (conv1): Conv2d(512, 512, kernel_size=(3, 3), stride=(1, 1), padding=(1, 1), bias=False)\n",
              "      (bn1): BatchNorm2d(512, eps=1e-05, momentum=0.1, affine=True, track_running_stats=True)\n",
              "      (relu): ReLU(inplace=True)\n",
              "      (conv2): Conv2d(512, 512, kernel_size=(3, 3), stride=(1, 1), padding=(1, 1), bias=False)\n",
              "      (bn2): BatchNorm2d(512, eps=1e-05, momentum=0.1, affine=True, track_running_stats=True)\n",
              "    )\n",
              "  )\n",
              "  (avgpool): AdaptiveAvgPool2d(output_size=(1, 1))\n",
              "  (fc): Linear(in_features=512, out_features=1000, bias=True)\n",
              ")"
            ]
          },
          "metadata": {},
          "execution_count": 27
        }
      ]
    },
    {
      "cell_type": "code",
      "execution_count": null,
      "metadata": {
        "id": "EHDyK6k64OcF",
        "colab": {
          "base_uri": "https://localhost:8080/"
        },
        "outputId": "19c2c972-61d4-4261-eb3b-9b3429b007f0"
      },
      "outputs": [
        {
          "output_type": "stream",
          "name": "stdout",
          "text": [
            "epoch 0\n"
          ]
        },
        {
          "output_type": "stream",
          "name": "stderr",
          "text": [
            "2it [00:06,  3.14s/it]"
          ]
        },
        {
          "output_type": "stream",
          "name": "stdout",
          "text": [
            "[1,     2] loss: 0.0683513717\n"
          ]
        },
        {
          "output_type": "stream",
          "name": "stderr",
          "text": [
            "382it [20:04,  3.01s/it]"
          ]
        },
        {
          "output_type": "stream",
          "name": "stdout",
          "text": [
            "[1,   382] loss: 13.6613312219\n"
          ]
        },
        {
          "output_type": "stream",
          "name": "stderr",
          "text": [
            "391it [20:31,  3.15s/it]"
          ]
        },
        {
          "output_type": "stream",
          "name": "stdout",
          "text": [
            "epoch 1\n"
          ]
        },
        {
          "output_type": "stream",
          "name": "stderr",
          "text": [
            "\n",
            "2it [00:07,  3.71s/it]"
          ]
        },
        {
          "output_type": "stream",
          "name": "stdout",
          "text": [
            "[2,     2] loss: 0.0708030274\n"
          ]
        },
        {
          "output_type": "stream",
          "name": "stderr",
          "text": [
            "382it [19:33,  3.17s/it]"
          ]
        },
        {
          "output_type": "stream",
          "name": "stdout",
          "text": [
            "[2,   382] loss: 13.6790821552\n"
          ]
        },
        {
          "output_type": "stream",
          "name": "stderr",
          "text": [
            "391it [20:00,  3.07s/it]"
          ]
        },
        {
          "output_type": "stream",
          "name": "stdout",
          "text": [
            "epoch 2\n"
          ]
        },
        {
          "output_type": "stream",
          "name": "stderr",
          "text": [
            "\n",
            "2it [00:06,  3.16s/it]"
          ]
        },
        {
          "output_type": "stream",
          "name": "stdout",
          "text": [
            "[3,     2] loss: 0.0723990867\n"
          ]
        },
        {
          "output_type": "stream",
          "name": "stderr",
          "text": [
            "382it [19:34,  3.15s/it]"
          ]
        },
        {
          "output_type": "stream",
          "name": "stdout",
          "text": [
            "[3,   382] loss: 13.6687017867\n"
          ]
        },
        {
          "output_type": "stream",
          "name": "stderr",
          "text": [
            "391it [20:02,  3.07s/it]"
          ]
        },
        {
          "output_type": "stream",
          "name": "stdout",
          "text": [
            "epoch 3\n"
          ]
        },
        {
          "output_type": "stream",
          "name": "stderr",
          "text": [
            "\n",
            "2it [00:06,  3.11s/it]"
          ]
        },
        {
          "output_type": "stream",
          "name": "stdout",
          "text": [
            "[4,     2] loss: 0.0736936745\n"
          ]
        },
        {
          "output_type": "stream",
          "name": "stderr",
          "text": [
            "382it [19:50,  3.10s/it]"
          ]
        },
        {
          "output_type": "stream",
          "name": "stdout",
          "text": [
            "[4,   382] loss: 13.6859427302\n"
          ]
        },
        {
          "output_type": "stream",
          "name": "stderr",
          "text": [
            "391it [20:16,  3.11s/it]"
          ]
        },
        {
          "output_type": "stream",
          "name": "stdout",
          "text": [
            "epoch 4\n"
          ]
        },
        {
          "output_type": "stream",
          "name": "stderr",
          "text": [
            "\n",
            "2it [00:07,  3.55s/it]"
          ]
        },
        {
          "output_type": "stream",
          "name": "stdout",
          "text": [
            "[5,     2] loss: 0.0726644089\n"
          ]
        },
        {
          "output_type": "stream",
          "name": "stderr",
          "text": [
            "382it [19:58,  2.91s/it]"
          ]
        },
        {
          "output_type": "stream",
          "name": "stdout",
          "text": [
            "[5,   382] loss: 13.6726972103\n"
          ]
        },
        {
          "output_type": "stream",
          "name": "stderr",
          "text": [
            "391it [20:25,  3.13s/it]"
          ]
        },
        {
          "output_type": "stream",
          "name": "stdout",
          "text": [
            "Finished Training\n"
          ]
        },
        {
          "output_type": "stream",
          "name": "stderr",
          "text": [
            "\n"
          ]
        }
      ],
      "source": [
        "########################### Problem 6 (6 points) #############################\n",
        "# Train the model on perturbed images from                                   #\n",
        "# untargeted FGSM attack with epsilon = 8/255 on train dataset               #\n",
        "# Also use the following setup for training the model                        #\n",
        "##############################################################################\n",
        "\n",
        "learning_rate = 0.01\n",
        "criterion = nn.CrossEntropyLoss()\n",
        "optimizer = optim.SGD(model.parameters(), lr=learning_rate, momentum=0.9)\n",
        "epochs = 5\n",
        "\n",
        "##############################################################################\n",
        "\n",
        "# Your code goes here\n",
        "fgsmattack=FGSMAttack(model)\n",
        "for epoch in range(epochs):\n",
        "    print(\"epoch \" + str(epoch))\n",
        "    running_loss = 0.0\n",
        "    for i, data in tqdm(enumerate(train_loader,0)):\n",
        "\n",
        "        inputs, labels = data[0].to(device), data[1].to(device)\n",
        "        optimizer.zero_grad()\n",
        "        # outputs = adversary_model(inputs)\n",
        "        adv,adv_outputs,_,_=fgsmattack(inputs,labels,8/255)\n",
        "        adv_outputs=adv_model(adv)\n",
        "        loss = criterion(adv_outputs, labels)\n",
        "        loss.backward()\n",
        "        optimizer.step()\n",
        "\n",
        "        # print statistics\n",
        "        running_loss += loss.item()\n",
        "        if i % 380 == 1:    # print every 2000 mini-batches #1999\n",
        "            print(f'[{epoch + 1}, {i + 1:5d}] loss: {running_loss/380 :.10f}')\n",
        "            running_loss = 0.0\n",
        "\n",
        "\n",
        "print('Finished Training')\n",
        "\n",
        "\n",
        "################################ End #########################################"
      ]
    },
    {
      "cell_type": "code",
      "source": [
        "# save adversary model\n",
        "adv_model.eval()\n",
        "model_name = \"adversary-resnet18_cifar10_model_std\"\n",
        "CIFAR10_model_PATH = \"/content/drive/MyDrive/\" + model_name\n",
        "torch.save(adv_model.state_dict(), CIFAR10_model_PATH)"
      ],
      "metadata": {
        "id": "6cwV6VCgYwn3"
      },
      "execution_count": null,
      "outputs": []
    },
    {
      "cell_type": "code",
      "source": [
        "# load the adversary model\n",
        "model_name = \"adversary-resnet18_cifar10_model_std\"\n",
        "CIFAR10_model_PATH = \"/content/drive/MyDrive/\" + model_name\n",
        "adversary_model = resnet18()\n",
        "adversary_model.load_state_dict(torch.load(CIFAR10_model_PATH))\n",
        "adversary_model.eval()\n",
        "adversary_model = adversary_model.to(device)"
      ],
      "metadata": {
        "id": "Tpsv-NM5bTCo"
      },
      "execution_count": null,
      "outputs": []
    },
    {
      "cell_type": "code",
      "execution_count": null,
      "metadata": {
        "id": "P7vpAlIZ4OcF",
        "colab": {
          "base_uri": "https://localhost:8080/"
        },
        "outputId": "cb557b56-e988-4cce-b534-92b7487de056"
      },
      "outputs": [
        {
          "output_type": "stream",
          "name": "stderr",
          "text": [
            "/usr/lib/python3.10/multiprocessing/popen_fork.py:66: RuntimeWarning: os.fork() was called. os.fork() is incompatible with multithreaded code, and JAX is multithreaded, so this will likely lead to a deadlock.\n",
            "  self.pid = os.fork()\n",
            "/usr/lib/python3.10/multiprocessing/popen_fork.py:66: RuntimeWarning: os.fork() was called. os.fork() is incompatible with multithreaded code, and JAX is multithreaded, so this will likely lead to a deadlock.\n",
            "  self.pid = os.fork()\n"
          ]
        },
        {
          "output_type": "stream",
          "name": "stdout",
          "text": [
            "\n",
            " Clean accuracy of the network on the 10000 test images: 0 %\n"
          ]
        }
      ],
      "source": [
        "########################### Problem 7 (2 points) #############################\n",
        "# Evaluate the new model on the test dataset                                 #\n",
        "##############################################################################\n",
        "standard_test(adv_model, loader= test_loader)\n",
        "################################ End #########################################"
      ]
    },
    {
      "cell_type": "code",
      "execution_count": null,
      "metadata": {
        "id": "VH0CzNey4OcG",
        "colab": {
          "base_uri": "https://localhost:8080/"
        },
        "outputId": "82741f0b-0082-4453-9164-dd677be0b43d"
      },
      "outputs": [
        {
          "metadata": {
            "tags": null
          },
          "name": "stderr",
          "output_type": "stream",
          "text": [
            "  0%|          | 0/79 [00:00<?, ?it/s]/usr/lib/python3.10/multiprocessing/popen_fork.py:66: RuntimeWarning: os.fork() was called. os.fork() is incompatible with multithreaded code, and JAX is multithreaded, so this will likely lead to a deadlock.\n",
            "  self.pid = os.fork()\n",
            "100%|██████████| 79/79 [04:46<00:00,  2.42s/it]/usr/lib/python3.10/multiprocessing/popen_fork.py:66: RuntimeWarning: os.fork() was called. os.fork() is incompatible with multithreaded code, and JAX is multithreaded, so this will likely lead to a deadlock.\n",
            "  self.pid = os.fork()\n",
            "100%|██████████| 79/79 [04:46<00:00,  3.63s/it]\n"
          ]
        },
        {
          "metadata": {
            "tags": null
          },
          "name": "stdout",
          "output_type": "stream",
          "text": [
            "adversarial Accuracy of new model against pgd attack on the 10000 test images with 8/255 and k=2 : 0.0 %\n"
          ]
        },
        {
          "metadata": {
            "tags": null
          },
          "name": "stderr",
          "output_type": "stream",
          "text": [
            "100%|██████████| 79/79 [08:14<00:00,  6.26s/it]\n"
          ]
        },
        {
          "metadata": {
            "tags": null
          },
          "name": "stdout",
          "output_type": "stream",
          "text": [
            "adversarial Accuracy of new model against pgd attack on the 10000 test images with 8/255 and k=4 : 0.0 %\n"
          ]
        },
        {
          "output_type": "stream",
          "name": "stderr",
          "text": [
            "100%|██████████| 79/79 [15:28<00:00, 11.75s/it]"
          ]
        },
        {
          "output_type": "stream",
          "name": "stdout",
          "text": [
            "adversarial Accuracy of new model against pgd attack on the 10000 test images with 8/255 and k=8 : 0.0 %\n"
          ]
        },
        {
          "output_type": "stream",
          "name": "stderr",
          "text": [
            "\n"
          ]
        }
      ],
      "source": [
        "########################### Problem 8 (3 points) #############################\n",
        "#  Run PGD attack on the adversarially trained model with k=2,4,8            #\n",
        "##############################################################################\n",
        "\n",
        "k_list = [2,4,8]\n",
        "for _k in k_list:\n",
        "  evalute_pgd(model_input = adv_model  , k_input = _k)\n",
        "\n",
        "##############################################################################\n",
        "\n",
        "# Your code goes here\n",
        "\n",
        "################################ End #########################################"
      ]
    },
    {
      "cell_type": "code",
      "execution_count": null,
      "metadata": {
        "id": "NYMEgaIY4OcG",
        "colab": {
          "base_uri": "https://localhost:8080/"
        },
        "outputId": "9e7400c4-86e0-4c1a-c652-5560664826e4"
      },
      "outputs": [
        {
          "output_type": "stream",
          "name": "stderr",
          "text": [
            "100%|██████████| 79/79 [02:11<00:00,  1.66s/it]"
          ]
        },
        {
          "output_type": "stream",
          "name": "stdout",
          "text": [
            "adversarial Accuracy of ResNet18 model on the 10000 test images with 0.03137254901960784 : 0.02 %\n"
          ]
        },
        {
          "output_type": "stream",
          "name": "stderr",
          "text": [
            "\n"
          ]
        }
      ],
      "source": [
        "########################### Problem 9 (1 points) #############################\n",
        "# Run FGSM attack on the adversarially trained model with epsilon = 8/255    #\n",
        "##############################################################################\n",
        "fgsm_eval(adv_model , 8/255)\n",
        "################################ End #########################################"
      ]
    },
    {
      "cell_type": "markdown",
      "metadata": {
        "id": "FKQhHQec4OcG"
      },
      "source": [
        "# E. Analyze Results (5 points)"
      ]
    },
    {
      "cell_type": "markdown",
      "metadata": {
        "id": "OUX8_5p64OcG"
      },
      "source": [
        "- Analyze the results for the 3 above cells"
      ]
    },
    {
      "cell_type": "markdown",
      "metadata": {
        "id": "rNmo10Cf4OcH"
      },
      "source": [
        "Your Answer"
      ]
    },
    {
      "cell_type": "markdown",
      "metadata": {
        "id": "VkhXXr3r4OcH"
      },
      "source": [
        "# F. Built-In Libraries"
      ]
    },
    {
      "cell_type": "markdown",
      "metadata": {
        "id": "-qRfn3yC4OcH"
      },
      "source": [
        "Use the following library and run FGSM and PGD attack for CIFAR10 test dataset on the given model and compare the results with your own results\n",
        "\n",
        "\n",
        "https://adversarial-attacks-pytorch.readthedocs.io/en/latest/index.html"
      ]
    },
    {
      "cell_type": "code",
      "source": [
        "!pip install torchattacks"
      ],
      "metadata": {
        "colab": {
          "base_uri": "https://localhost:8080/",
          "height": 1000
        },
        "id": "BjceBq-PNKPt",
        "outputId": "3908cc9c-c316-4e04-c758-894dd111ae8f"
      },
      "execution_count": null,
      "outputs": [
        {
          "output_type": "stream",
          "name": "stdout",
          "text": [
            "Collecting torchattacks\n",
            "  Downloading torchattacks-3.5.1-py3-none-any.whl (142 kB)\n",
            "\u001b[2K     \u001b[90m━━━━━━━━━━━━━━━━━━━━━━━━━━━━━━━━━━━━━━━━\u001b[0m \u001b[32m142.0/142.0 kB\u001b[0m \u001b[31m1.4 MB/s\u001b[0m eta \u001b[36m0:00:00\u001b[0m\n",
            "\u001b[?25hRequirement already satisfied: torch>=1.7.1 in /usr/local/lib/python3.10/dist-packages (from torchattacks) (2.2.1+cu121)\n",
            "Requirement already satisfied: torchvision>=0.8.2 in /usr/local/lib/python3.10/dist-packages (from torchattacks) (0.17.1+cu121)\n",
            "Requirement already satisfied: scipy>=0.14.0 in /usr/local/lib/python3.10/dist-packages (from torchattacks) (1.11.4)\n",
            "Requirement already satisfied: tqdm>=4.56.1 in /usr/local/lib/python3.10/dist-packages (from torchattacks) (4.66.4)\n",
            "Collecting requests~=2.25.1 (from torchattacks)\n",
            "  Downloading requests-2.25.1-py2.py3-none-any.whl (61 kB)\n",
            "\u001b[2K     \u001b[90m━━━━━━━━━━━━━━━━━━━━━━━━━━━━━━━━━━━━━━━━\u001b[0m \u001b[32m61.2/61.2 kB\u001b[0m \u001b[31m5.8 MB/s\u001b[0m eta \u001b[36m0:00:00\u001b[0m\n",
            "\u001b[?25hRequirement already satisfied: numpy>=1.19.4 in /usr/local/lib/python3.10/dist-packages (from torchattacks) (1.25.2)\n",
            "Collecting chardet<5,>=3.0.2 (from requests~=2.25.1->torchattacks)\n",
            "  Downloading chardet-4.0.0-py2.py3-none-any.whl (178 kB)\n",
            "\u001b[2K     \u001b[90m━━━━━━━━━━━━━━━━━━━━━━━━━━━━━━━━━━━━━━━━\u001b[0m \u001b[32m178.7/178.7 kB\u001b[0m \u001b[31m4.0 MB/s\u001b[0m eta \u001b[36m0:00:00\u001b[0m\n",
            "\u001b[?25hCollecting idna<3,>=2.5 (from requests~=2.25.1->torchattacks)\n",
            "  Downloading idna-2.10-py2.py3-none-any.whl (58 kB)\n",
            "\u001b[2K     \u001b[90m━━━━━━━━━━━━━━━━━━━━━━━━━━━━━━━━━━━━━━━━\u001b[0m \u001b[32m58.8/58.8 kB\u001b[0m \u001b[31m7.1 MB/s\u001b[0m eta \u001b[36m0:00:00\u001b[0m\n",
            "\u001b[?25hCollecting urllib3<1.27,>=1.21.1 (from requests~=2.25.1->torchattacks)\n",
            "  Downloading urllib3-1.26.18-py2.py3-none-any.whl (143 kB)\n",
            "\u001b[2K     \u001b[90m━━━━━━━━━━━━━━━━━━━━━━━━━━━━━━━━━━━━━━━━\u001b[0m \u001b[32m143.8/143.8 kB\u001b[0m \u001b[31m13.1 MB/s\u001b[0m eta \u001b[36m0:00:00\u001b[0m\n",
            "\u001b[?25hRequirement already satisfied: certifi>=2017.4.17 in /usr/local/lib/python3.10/dist-packages (from requests~=2.25.1->torchattacks) (2024.2.2)\n",
            "Requirement already satisfied: filelock in /usr/local/lib/python3.10/dist-packages (from torch>=1.7.1->torchattacks) (3.14.0)\n",
            "Requirement already satisfied: typing-extensions>=4.8.0 in /usr/local/lib/python3.10/dist-packages (from torch>=1.7.1->torchattacks) (4.11.0)\n",
            "Requirement already satisfied: sympy in /usr/local/lib/python3.10/dist-packages (from torch>=1.7.1->torchattacks) (1.12)\n",
            "Requirement already satisfied: networkx in /usr/local/lib/python3.10/dist-packages (from torch>=1.7.1->torchattacks) (3.3)\n",
            "Requirement already satisfied: jinja2 in /usr/local/lib/python3.10/dist-packages (from torch>=1.7.1->torchattacks) (3.1.4)\n",
            "Requirement already satisfied: fsspec in /usr/local/lib/python3.10/dist-packages (from torch>=1.7.1->torchattacks) (2023.6.0)\n",
            "Collecting nvidia-cuda-nvrtc-cu12==12.1.105 (from torch>=1.7.1->torchattacks)\n",
            "  Using cached nvidia_cuda_nvrtc_cu12-12.1.105-py3-none-manylinux1_x86_64.whl (23.7 MB)\n",
            "Collecting nvidia-cuda-runtime-cu12==12.1.105 (from torch>=1.7.1->torchattacks)\n",
            "  Using cached nvidia_cuda_runtime_cu12-12.1.105-py3-none-manylinux1_x86_64.whl (823 kB)\n",
            "Collecting nvidia-cuda-cupti-cu12==12.1.105 (from torch>=1.7.1->torchattacks)\n",
            "  Using cached nvidia_cuda_cupti_cu12-12.1.105-py3-none-manylinux1_x86_64.whl (14.1 MB)\n",
            "Collecting nvidia-cudnn-cu12==8.9.2.26 (from torch>=1.7.1->torchattacks)\n",
            "  Using cached nvidia_cudnn_cu12-8.9.2.26-py3-none-manylinux1_x86_64.whl (731.7 MB)\n",
            "\u001b[33mWARNING: Retrying (Retry(total=4, connect=None, read=None, redirect=None, status=None)) after connection broken by 'ProtocolError('Connection aborted.', RemoteDisconnected('Remote end closed connection without response'))': /simple/nvidia-cublas-cu12/\u001b[0m\u001b[33m\n",
            "\u001b[0mCollecting nvidia-cublas-cu12==12.1.3.1 (from torch>=1.7.1->torchattacks)\n",
            "  Using cached nvidia_cublas_cu12-12.1.3.1-py3-none-manylinux1_x86_64.whl (410.6 MB)\n",
            "Collecting nvidia-cufft-cu12==11.0.2.54 (from torch>=1.7.1->torchattacks)\n",
            "  Using cached nvidia_cufft_cu12-11.0.2.54-py3-none-manylinux1_x86_64.whl (121.6 MB)\n",
            "Collecting nvidia-curand-cu12==10.3.2.106 (from torch>=1.7.1->torchattacks)\n",
            "  Using cached nvidia_curand_cu12-10.3.2.106-py3-none-manylinux1_x86_64.whl (56.5 MB)\n",
            "Collecting nvidia-cusolver-cu12==11.4.5.107 (from torch>=1.7.1->torchattacks)\n",
            "  Using cached nvidia_cusolver_cu12-11.4.5.107-py3-none-manylinux1_x86_64.whl (124.2 MB)\n",
            "Collecting nvidia-cusparse-cu12==12.1.0.106 (from torch>=1.7.1->torchattacks)\n",
            "  Using cached nvidia_cusparse_cu12-12.1.0.106-py3-none-manylinux1_x86_64.whl (196.0 MB)\n",
            "Collecting nvidia-nccl-cu12==2.19.3 (from torch>=1.7.1->torchattacks)\n",
            "  Using cached nvidia_nccl_cu12-2.19.3-py3-none-manylinux1_x86_64.whl (166.0 MB)\n",
            "Collecting nvidia-nvtx-cu12==12.1.105 (from torch>=1.7.1->torchattacks)\n",
            "  Using cached nvidia_nvtx_cu12-12.1.105-py3-none-manylinux1_x86_64.whl (99 kB)\n",
            "Requirement already satisfied: triton==2.2.0 in /usr/local/lib/python3.10/dist-packages (from torch>=1.7.1->torchattacks) (2.2.0)\n",
            "Collecting nvidia-nvjitlink-cu12 (from nvidia-cusolver-cu12==11.4.5.107->torch>=1.7.1->torchattacks)\n",
            "  Using cached nvidia_nvjitlink_cu12-12.4.127-py3-none-manylinux2014_x86_64.whl (21.1 MB)\n",
            "Requirement already satisfied: pillow!=8.3.*,>=5.3.0 in /usr/local/lib/python3.10/dist-packages (from torchvision>=0.8.2->torchattacks) (9.4.0)\n",
            "Requirement already satisfied: MarkupSafe>=2.0 in /usr/local/lib/python3.10/dist-packages (from jinja2->torch>=1.7.1->torchattacks) (2.1.5)\n",
            "Requirement already satisfied: mpmath>=0.19 in /usr/local/lib/python3.10/dist-packages (from sympy->torch>=1.7.1->torchattacks) (1.3.0)\n",
            "Installing collected packages: urllib3, nvidia-nvtx-cu12, nvidia-nvjitlink-cu12, nvidia-nccl-cu12, nvidia-curand-cu12, nvidia-cufft-cu12, nvidia-cuda-runtime-cu12, nvidia-cuda-nvrtc-cu12, nvidia-cuda-cupti-cu12, nvidia-cublas-cu12, idna, chardet, requests, nvidia-cusparse-cu12, nvidia-cudnn-cu12, nvidia-cusolver-cu12, torchattacks\n",
            "  Attempting uninstall: urllib3\n",
            "    Found existing installation: urllib3 2.0.7\n",
            "    Uninstalling urllib3-2.0.7:\n",
            "      Successfully uninstalled urllib3-2.0.7\n",
            "  Attempting uninstall: idna\n",
            "    Found existing installation: idna 3.7\n",
            "    Uninstalling idna-3.7:\n",
            "      Successfully uninstalled idna-3.7\n",
            "  Attempting uninstall: chardet\n",
            "    Found existing installation: chardet 5.2.0\n",
            "    Uninstalling chardet-5.2.0:\n",
            "      Successfully uninstalled chardet-5.2.0\n",
            "  Attempting uninstall: requests\n",
            "    Found existing installation: requests 2.31.0\n",
            "    Uninstalling requests-2.31.0:\n",
            "      Successfully uninstalled requests-2.31.0\n",
            "\u001b[31mERROR: pip's dependency resolver does not currently take into account all the packages that are installed. This behaviour is the source of the following dependency conflicts.\n",
            "bigframes 1.5.0 requires requests>=2.27.1, but you have requests 2.25.1 which is incompatible.\n",
            "google-colab 1.0.0 requires requests==2.31.0, but you have requests 2.25.1 which is incompatible.\n",
            "tweepy 4.14.0 requires requests<3,>=2.27.0, but you have requests 2.25.1 which is incompatible.\n",
            "yfinance 0.2.38 requires requests>=2.31, but you have requests 2.25.1 which is incompatible.\u001b[0m\u001b[31m\n",
            "\u001b[0mSuccessfully installed chardet-4.0.0 idna-2.10 nvidia-cublas-cu12-12.1.3.1 nvidia-cuda-cupti-cu12-12.1.105 nvidia-cuda-nvrtc-cu12-12.1.105 nvidia-cuda-runtime-cu12-12.1.105 nvidia-cudnn-cu12-8.9.2.26 nvidia-cufft-cu12-11.0.2.54 nvidia-curand-cu12-10.3.2.106 nvidia-cusolver-cu12-11.4.5.107 nvidia-cusparse-cu12-12.1.0.106 nvidia-nccl-cu12-2.19.3 nvidia-nvjitlink-cu12-12.4.127 nvidia-nvtx-cu12-12.1.105 requests-2.25.1 torchattacks-3.5.1 urllib3-1.26.18\n"
          ]
        },
        {
          "output_type": "display_data",
          "data": {
            "application/vnd.colab-display-data+json": {
              "pip_warning": {
                "packages": [
                  "chardet",
                  "idna",
                  "requests",
                  "urllib3"
                ]
              },
              "id": "70331d02bad24d328e7dbe0abf133825"
            }
          },
          "metadata": {}
        }
      ]
    },
    {
      "cell_type": "code",
      "execution_count": null,
      "metadata": {
        "id": "r6Vu7wv54OcH"
      },
      "outputs": [],
      "source": [
        "########################### Problem 10 (12 points) #############################\n",
        "# Run FGSM attack (using library) on the pretrained model for the test dataset #\n",
        "# Run PGD attack (using library) on the pretrained model for the test dataset  #\n",
        "################################################################################\n",
        "import torchattacks\n",
        "\n",
        "################################ End #########################################"
      ]
    },
    {
      "cell_type": "code",
      "source": [
        "import torchvision.models as models\n",
        "model2 = models.resnet18(pretrained=True).eval()\n",
        "device = torch.device(\"cuda\" if torch.cuda.is_available() else \"cpu\")\n",
        "model2 = model2.to(device)"
      ],
      "metadata": {
        "colab": {
          "base_uri": "https://localhost:8080/"
        },
        "id": "qVLznA7JRta7",
        "outputId": "b712beed-6931-447c-a324-535c7417d2a0"
      },
      "execution_count": null,
      "outputs": [
        {
          "output_type": "stream",
          "name": "stderr",
          "text": [
            "/usr/local/lib/python3.10/dist-packages/torchvision/models/_utils.py:208: UserWarning: The parameter 'pretrained' is deprecated since 0.13 and may be removed in the future, please use 'weights' instead.\n",
            "  warnings.warn(\n",
            "/usr/local/lib/python3.10/dist-packages/torchvision/models/_utils.py:223: UserWarning: Arguments other than a weight enum or `None` for 'weights' are deprecated since 0.13 and may be removed in the future. The current behavior is equivalent to passing `weights=ResNet18_Weights.IMAGENET1K_V1`. You can also use `weights=ResNet18_Weights.DEFAULT` to get the most up-to-date weights.\n",
            "  warnings.warn(msg)\n"
          ]
        }
      ]
    },
    {
      "cell_type": "code",
      "source": [
        "fgsm_attack = torchattacks.FGSM(model2, eps=8/255)\n"
      ],
      "metadata": {
        "id": "ULF9KQxKR07o"
      },
      "execution_count": null,
      "outputs": []
    },
    {
      "cell_type": "code",
      "source": [
        "def evaluate_attack(attack):\n",
        "    correct = 0\n",
        "    total = 0\n",
        "    for images, labels in test_loader:\n",
        "        images = images.to(device)\n",
        "        labels = labels.to(device)\n",
        "\n",
        "        # Generate adversarial examples\n",
        "        adv_images = attack(images, labels)\n",
        "\n",
        "        outputs = model2(adv_images)\n",
        "        if isinstance(outputs, tuple):  # Check if output is a tuple and extract the logits\n",
        "            outputs = outputs[0]\n",
        "\n",
        "        _, predicted = torch.max(outputs.data, 1)\n",
        "        total += labels.size(0)\n",
        "        correct += (predicted == labels).sum().item()\n",
        "\n",
        "    print(f'Accuracy after attack: {100 * correct / total:.2f}%')"
      ],
      "metadata": {
        "id": "nmyJc2bgR9pW"
      },
      "execution_count": null,
      "outputs": []
    },
    {
      "cell_type": "code",
      "source": [
        "evaluate_attack(fgsm_attack)\n"
      ],
      "metadata": {
        "colab": {
          "base_uri": "https://localhost:8080/"
        },
        "id": "e0a689VJSCj-",
        "outputId": "64d89c47-580d-44f0-9f9c-442f9079b9ce"
      },
      "execution_count": null,
      "outputs": [
        {
          "output_type": "stream",
          "name": "stderr",
          "text": [
            "/usr/lib/python3.10/multiprocessing/popen_fork.py:66: RuntimeWarning: os.fork() was called. os.fork() is incompatible with multithreaded code, and JAX is multithreaded, so this will likely lead to a deadlock.\n",
            "  self.pid = os.fork()\n",
            "/usr/lib/python3.10/multiprocessing/popen_fork.py:66: RuntimeWarning: os.fork() was called. os.fork() is incompatible with multithreaded code, and JAX is multithreaded, so this will likely lead to a deadlock.\n",
            "  self.pid = os.fork()\n"
          ]
        },
        {
          "output_type": "stream",
          "name": "stdout",
          "text": [
            "Accuracy after attack: 0.00%\n"
          ]
        }
      ]
    },
    {
      "cell_type": "code",
      "source": [
        "pgd_attack = torchattacks.PGD(model2, eps=0.03, alpha=0.01, steps=40)  # Configure the PGD attack\n"
      ],
      "metadata": {
        "id": "wTbOTxfKSE2p"
      },
      "execution_count": null,
      "outputs": []
    },
    {
      "cell_type": "code",
      "source": [
        "evaluate_attack(pgd_attack)\n"
      ],
      "metadata": {
        "colab": {
          "base_uri": "https://localhost:8080/"
        },
        "id": "sERWlFghU7_j",
        "outputId": "327ad0f2-ddf1-4afe-9a8a-e44354dc8ae1"
      },
      "execution_count": null,
      "outputs": [
        {
          "output_type": "stream",
          "name": "stderr",
          "text": [
            "/usr/lib/python3.10/multiprocessing/popen_fork.py:66: RuntimeWarning: os.fork() was called. os.fork() is incompatible with multithreaded code, and JAX is multithreaded, so this will likely lead to a deadlock.\n",
            "  self.pid = os.fork()\n",
            "/usr/lib/python3.10/multiprocessing/popen_fork.py:66: RuntimeWarning: os.fork() was called. os.fork() is incompatible with multithreaded code, and JAX is multithreaded, so this will likely lead to a deadlock.\n",
            "  self.pid = os.fork()\n"
          ]
        },
        {
          "output_type": "stream",
          "name": "stdout",
          "text": [
            "Accuracy after attack: 0.00%\n"
          ]
        }
      ]
    },
    {
      "cell_type": "code",
      "source": [],
      "metadata": {
        "id": "xVKeDiDyU9c4"
      },
      "execution_count": null,
      "outputs": []
    }
  ],
  "metadata": {
    "kernelspec": {
      "display_name": "Python 3",
      "language": "python",
      "name": "python3"
    },
    "language_info": {
      "codemirror_mode": {
        "name": "ipython",
        "version": 3
      },
      "file_extension": ".py",
      "mimetype": "text/x-python",
      "name": "python",
      "nbconvert_exporter": "python",
      "pygments_lexer": "ipython3",
      "version": "3.8.10"
    },
    "colab": {
      "provenance": []
    }
  },
  "nbformat": 4,
  "nbformat_minor": 0
}